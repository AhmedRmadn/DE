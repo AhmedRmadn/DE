{
  "nbformat": 4,
  "nbformat_minor": 0,
  "metadata": {
    "colab": {
      "provenance": []
    },
    "kernelspec": {
      "name": "python3",
      "display_name": "Python 3"
    },
    "language_info": {
      "name": "python"
    }
  },
  "cells": [
    {
      "cell_type": "code",
      "execution_count": 1,
      "metadata": {
        "id": "32GhvkQOgR6C"
      },
      "outputs": [],
      "source": [
        "import matplotlib.pyplot as plt\n",
        "from datetime import datetime\n",
        "import seaborn as sns\n",
        "import pandas as pd\n",
        "import numpy as np\n",
        "import math\n",
        "from sklearn.preprocessing import MinMaxScaler\n",
        "from sklearn.neighbors import LocalOutlierFactor\n",
        "from sklearn import preprocessing\n",
        "from scipy import stats\n",
        "from tqdm import tqdm\n",
        "import requests\n",
        "import time\n"
      ]
    },
    {
      "cell_type": "code",
      "source": [],
      "metadata": {
        "id": "AQa6oHEdDoia"
      },
      "execution_count": 1,
      "outputs": []
    },
    {
      "cell_type": "code",
      "source": [
        "values_csv=[]\n",
        "cols_drop_csv=[]\n",
        "def add_to_csv_values(col,val,meaning):\n",
        "  values_csv.append((col,val,meaning))\n",
        "  # if col in values_csv.keys():\n",
        "  #   values_csv[col].append({val:meaning})\n",
        "  # else:\n",
        "  #   values_csv[col]=[{val:meaning}]\n",
        "\n",
        "def add_to_col_drop(col):\n",
        "  cols_drop_csv.append(col)"
      ],
      "metadata": {
        "id": "-tDoiGORj871"
      },
      "execution_count": 41,
      "outputs": []
    },
    {
      "cell_type": "code",
      "execution_count": 2,
      "metadata": {
        "id": "VcWowHtNnfS4"
      },
      "outputs": [],
      "source": [
        "def show_values(axs, orient=\"v\", round = 1,space=.01):\n",
        "    format = '{:.'+str(round)+'f}'\n",
        "    def _single(ax):\n",
        "        if orient == \"v\":\n",
        "            for p in ax.patches:\n",
        "                _x = p.get_x() + p.get_width() / 2\n",
        "                _y = p.get_y() + p.get_height() + (p.get_height()*0.01)\n",
        "                value = format.format(p.get_height())\n",
        "                ax.text(_x, _y, value, ha=\"center\") \n",
        "        elif orient == \"h\":\n",
        "            for p in ax.patches:\n",
        "                _x = p.get_x() + p.get_width() + float(space)\n",
        "                _y = p.get_y() + p.get_height() - (p.get_height()*0.5)\n",
        "                value = format.format(p.get_width())\n",
        "                ax.text(_x, _y, value, ha=\"left\")\n",
        "\n",
        "    if isinstance(axs, np.ndarray):\n",
        "        for idx, ax in np.ndenumerate(axs):\n",
        "            _single(ax)\n",
        "    else:\n",
        "        _single(axs)"
      ]
    },
    {
      "cell_type": "code",
      "execution_count": 3,
      "metadata": {
        "id": "Iqj_mvrodccK"
      },
      "outputs": [],
      "source": [
        "def countEachCategory(col):\n",
        "  allCategories = col.unique();\n",
        "  res={}\n",
        "  for cat in allCategories:\n",
        "    res[str(cat)]=0\n",
        "  for val in col:\n",
        "    res[str(val)] = res[str(val)]+1\n",
        "  return res"
      ]
    },
    {
      "cell_type": "code",
      "execution_count": 4,
      "metadata": {
        "id": "mRn2fBeWdhnV"
      },
      "outputs": [],
      "source": [
        "def percentOfCategories(col,fun=countEachCategory,r=1):\n",
        "  countDict = fun(col)\n",
        "  sumAll = len(col)\n",
        "  for cat in countDict:\n",
        "    countDict[cat] = round((countDict[cat]/sumAll)*100, r)\n",
        "  return countDict"
      ]
    },
    {
      "cell_type": "code",
      "execution_count": 5,
      "metadata": {
        "id": "qPGKSK1ldlwn"
      },
      "outputs": [],
      "source": [
        "def plotPercentageCol(percentOfCategories,dim1=10,dim2=5,title=\"\",degree=0,r=1):\n",
        "  fig, ax = plt.subplots(figsize=(dim1, dim2))\n",
        "  keys = list(percentOfCategories.keys())\n",
        "  p = sns.barplot(x=keys, y=[percentOfCategories[k] for k in keys])\n",
        "  plt.title(title)\n",
        "  plt.tick_params(axis='x', rotation=degree)\n",
        "  show_values(p,round = r)\n",
        "  plt.show()\n",
        "  "
      ]
    },
    {
      "cell_type": "code",
      "source": [
        "def calculate_top_categories(df, variable, how_many):\n",
        "    return [\n",
        "        x for x in df[variable].value_counts().sort_values(\n",
        "            ascending=False).head(how_many).index\n",
        "    ]\n",
        "\n",
        "def one_hot_encode_frequent(df, variable, how_many):\n",
        "    result = df.copy()\n",
        "    top_x_labels = calculate_top_categories(result, variable, how_many)\n",
        "    for label in top_x_labels:\n",
        "        result[variable + '_' + label] = np.where(\n",
        "            result[variable] == label, 1, 0) \n",
        "    return result"
      ],
      "metadata": {
        "id": "0VwDQpnUF4mK"
      },
      "execution_count": 26,
      "outputs": []
    },
    {
      "cell_type": "code",
      "source": [
        "dataSet_csv = '/content/drive/MyDrive/DE Project/output.csv'\n",
        "city_csv_path = '/content/drive/MyDrive/DE Project/city.csv'\n",
        "dataset_csv_res = '/content/drive/MyDrive/DE Project/output_2.csv'\n",
        "lookup_path = '/content/drive/MyDrive/DE Project/values_2.csv' "
      ],
      "metadata": {
        "id": "F4o8RdVogTld"
      },
      "execution_count": 48,
      "outputs": []
    },
    {
      "cell_type": "code",
      "source": [
        "df= pd.read_csv(dataSet_csv,index_col=0)\n",
        "df.head()"
      ],
      "metadata": {
        "colab": {
          "base_uri": "https://localhost:8080/",
          "height": 400
        },
        "id": "BYi6wUhehcWj",
        "outputId": "87371d05-5a4a-405e-96e8-c17231389e7f"
      },
      "execution_count": 8,
      "outputs": [
        {
          "output_type": "stream",
          "name": "stderr",
          "text": [
            "/usr/local/lib/python3.8/dist-packages/IPython/core/interactiveshell.py:3326: DtypeWarning: Columns (0) have mixed types.Specify dtype option on import or set low_memory=False.\n",
            "  exec(code_obj, self.user_global_ns, self.user_ns)\n"
          ]
        },
        {
          "output_type": "execute_result",
          "data": {
            "text/plain": [
              "                longitude   latitude  number_of_vehicles  \\\n",
              "accident_index                                             \n",
              "201401BS70001   -0.206443  51.496345             0.75362   \n",
              "201401BS70002   -0.189713  51.489523             0.75362   \n",
              "201401BS70003   -0.173827  51.490536             0.75362   \n",
              "201401BS70004   -0.192311  51.496668             0.00000   \n",
              "201401BS70006   -0.171308  51.495892             0.75362   \n",
              "\n",
              "                number_of_casualties  speed_limit  day  month  hour  minute  \\\n",
              "accident_index                                                                \n",
              "201401BS70001                    0.0     0.646504    9      1    13      21   \n",
              "201401BS70002                    0.0     0.646504   20      1    23       0   \n",
              "201401BS70003                    0.0     0.646504   21      1    10      40   \n",
              "201401BS70004                    0.0     0.646504   15      1    17      45   \n",
              "201401BS70006                    0.0     0.646504    9      1     8      50   \n",
              "\n",
              "                accident_severity_encoding  ...  \\\n",
              "accident_index                              ...   \n",
              "201401BS70001                            0  ...   \n",
              "201401BS70002                            0  ...   \n",
              "201401BS70003                            0  ...   \n",
              "201401BS70004                            0  ...   \n",
              "201401BS70006                            0  ...   \n",
              "\n",
              "                trunk_road_flag_Trunk (Roads managed by Highways England)  \\\n",
              "accident_index                                                              \n",
              "201401BS70001                                                   0           \n",
              "201401BS70002                                                   0           \n",
              "201401BS70003                                                   0           \n",
              "201401BS70004                                                   0           \n",
              "201401BS70006                                                   0           \n",
              "\n",
              "                local_authority_district_encoding  \\\n",
              "accident_index                                      \n",
              "201401BS70001                                   0   \n",
              "201401BS70002                                   0   \n",
              "201401BS70003                                   0   \n",
              "201401BS70004                                   0   \n",
              "201401BS70006                                   0   \n",
              "\n",
              "                local_authority_highway_encoding  first_road_number_encoding  \\\n",
              "accident_index                                                                 \n",
              "201401BS70001                                  0                           1   \n",
              "201401BS70002                                  0                          14   \n",
              "201401BS70003                                  0                           1   \n",
              "201401BS70004                                  0                           0   \n",
              "201401BS70006                                  0                           0   \n",
              "\n",
              "                second_road_number_encoding  \\\n",
              "accident_index                                \n",
              "201401BS70001                             0   \n",
              "201401BS70002                            14   \n",
              "201401BS70003                             0   \n",
              "201401BS70004                             0   \n",
              "201401BS70006                             0   \n",
              "\n",
              "                lsoa_of_accident_location_encoding  week_number_encoding  \\\n",
              "accident_index                                                             \n",
              "201401BS70001                                   22                     0   \n",
              "201401BS70002                                   22                     0   \n",
              "201401BS70003                                   22                     0   \n",
              "201401BS70004                                   22                     0   \n",
              "201401BS70006                                   22                     0   \n",
              "\n",
              "                accident_in_summer  accident_in_PM  accident_on_weekend  \n",
              "accident_index                                                           \n",
              "201401BS70001                    0               1                    0  \n",
              "201401BS70002                    0               1                    0  \n",
              "201401BS70003                    0               0                    0  \n",
              "201401BS70004                    0               1                    0  \n",
              "201401BS70006                    0               0                    0  \n",
              "\n",
              "[5 rows x 63 columns]"
            ],
            "text/html": [
              "\n",
              "  <div id=\"df-5bdbb6d8-fe47-424b-bc3f-05b54ce8be0b\">\n",
              "    <div class=\"colab-df-container\">\n",
              "      <div>\n",
              "<style scoped>\n",
              "    .dataframe tbody tr th:only-of-type {\n",
              "        vertical-align: middle;\n",
              "    }\n",
              "\n",
              "    .dataframe tbody tr th {\n",
              "        vertical-align: top;\n",
              "    }\n",
              "\n",
              "    .dataframe thead th {\n",
              "        text-align: right;\n",
              "    }\n",
              "</style>\n",
              "<table border=\"1\" class=\"dataframe\">\n",
              "  <thead>\n",
              "    <tr style=\"text-align: right;\">\n",
              "      <th></th>\n",
              "      <th>longitude</th>\n",
              "      <th>latitude</th>\n",
              "      <th>number_of_vehicles</th>\n",
              "      <th>number_of_casualties</th>\n",
              "      <th>speed_limit</th>\n",
              "      <th>day</th>\n",
              "      <th>month</th>\n",
              "      <th>hour</th>\n",
              "      <th>minute</th>\n",
              "      <th>accident_severity_encoding</th>\n",
              "      <th>...</th>\n",
              "      <th>trunk_road_flag_Trunk (Roads managed by Highways England)</th>\n",
              "      <th>local_authority_district_encoding</th>\n",
              "      <th>local_authority_highway_encoding</th>\n",
              "      <th>first_road_number_encoding</th>\n",
              "      <th>second_road_number_encoding</th>\n",
              "      <th>lsoa_of_accident_location_encoding</th>\n",
              "      <th>week_number_encoding</th>\n",
              "      <th>accident_in_summer</th>\n",
              "      <th>accident_in_PM</th>\n",
              "      <th>accident_on_weekend</th>\n",
              "    </tr>\n",
              "    <tr>\n",
              "      <th>accident_index</th>\n",
              "      <th></th>\n",
              "      <th></th>\n",
              "      <th></th>\n",
              "      <th></th>\n",
              "      <th></th>\n",
              "      <th></th>\n",
              "      <th></th>\n",
              "      <th></th>\n",
              "      <th></th>\n",
              "      <th></th>\n",
              "      <th></th>\n",
              "      <th></th>\n",
              "      <th></th>\n",
              "      <th></th>\n",
              "      <th></th>\n",
              "      <th></th>\n",
              "      <th></th>\n",
              "      <th></th>\n",
              "      <th></th>\n",
              "      <th></th>\n",
              "      <th></th>\n",
              "    </tr>\n",
              "  </thead>\n",
              "  <tbody>\n",
              "    <tr>\n",
              "      <th>201401BS70001</th>\n",
              "      <td>-0.206443</td>\n",
              "      <td>51.496345</td>\n",
              "      <td>0.75362</td>\n",
              "      <td>0.0</td>\n",
              "      <td>0.646504</td>\n",
              "      <td>9</td>\n",
              "      <td>1</td>\n",
              "      <td>13</td>\n",
              "      <td>21</td>\n",
              "      <td>0</td>\n",
              "      <td>...</td>\n",
              "      <td>0</td>\n",
              "      <td>0</td>\n",
              "      <td>0</td>\n",
              "      <td>1</td>\n",
              "      <td>0</td>\n",
              "      <td>22</td>\n",
              "      <td>0</td>\n",
              "      <td>0</td>\n",
              "      <td>1</td>\n",
              "      <td>0</td>\n",
              "    </tr>\n",
              "    <tr>\n",
              "      <th>201401BS70002</th>\n",
              "      <td>-0.189713</td>\n",
              "      <td>51.489523</td>\n",
              "      <td>0.75362</td>\n",
              "      <td>0.0</td>\n",
              "      <td>0.646504</td>\n",
              "      <td>20</td>\n",
              "      <td>1</td>\n",
              "      <td>23</td>\n",
              "      <td>0</td>\n",
              "      <td>0</td>\n",
              "      <td>...</td>\n",
              "      <td>0</td>\n",
              "      <td>0</td>\n",
              "      <td>0</td>\n",
              "      <td>14</td>\n",
              "      <td>14</td>\n",
              "      <td>22</td>\n",
              "      <td>0</td>\n",
              "      <td>0</td>\n",
              "      <td>1</td>\n",
              "      <td>0</td>\n",
              "    </tr>\n",
              "    <tr>\n",
              "      <th>201401BS70003</th>\n",
              "      <td>-0.173827</td>\n",
              "      <td>51.490536</td>\n",
              "      <td>0.75362</td>\n",
              "      <td>0.0</td>\n",
              "      <td>0.646504</td>\n",
              "      <td>21</td>\n",
              "      <td>1</td>\n",
              "      <td>10</td>\n",
              "      <td>40</td>\n",
              "      <td>0</td>\n",
              "      <td>...</td>\n",
              "      <td>0</td>\n",
              "      <td>0</td>\n",
              "      <td>0</td>\n",
              "      <td>1</td>\n",
              "      <td>0</td>\n",
              "      <td>22</td>\n",
              "      <td>0</td>\n",
              "      <td>0</td>\n",
              "      <td>0</td>\n",
              "      <td>0</td>\n",
              "    </tr>\n",
              "    <tr>\n",
              "      <th>201401BS70004</th>\n",
              "      <td>-0.192311</td>\n",
              "      <td>51.496668</td>\n",
              "      <td>0.00000</td>\n",
              "      <td>0.0</td>\n",
              "      <td>0.646504</td>\n",
              "      <td>15</td>\n",
              "      <td>1</td>\n",
              "      <td>17</td>\n",
              "      <td>45</td>\n",
              "      <td>0</td>\n",
              "      <td>...</td>\n",
              "      <td>0</td>\n",
              "      <td>0</td>\n",
              "      <td>0</td>\n",
              "      <td>0</td>\n",
              "      <td>0</td>\n",
              "      <td>22</td>\n",
              "      <td>0</td>\n",
              "      <td>0</td>\n",
              "      <td>1</td>\n",
              "      <td>0</td>\n",
              "    </tr>\n",
              "    <tr>\n",
              "      <th>201401BS70006</th>\n",
              "      <td>-0.171308</td>\n",
              "      <td>51.495892</td>\n",
              "      <td>0.75362</td>\n",
              "      <td>0.0</td>\n",
              "      <td>0.646504</td>\n",
              "      <td>9</td>\n",
              "      <td>1</td>\n",
              "      <td>8</td>\n",
              "      <td>50</td>\n",
              "      <td>0</td>\n",
              "      <td>...</td>\n",
              "      <td>0</td>\n",
              "      <td>0</td>\n",
              "      <td>0</td>\n",
              "      <td>0</td>\n",
              "      <td>0</td>\n",
              "      <td>22</td>\n",
              "      <td>0</td>\n",
              "      <td>0</td>\n",
              "      <td>0</td>\n",
              "      <td>0</td>\n",
              "    </tr>\n",
              "  </tbody>\n",
              "</table>\n",
              "<p>5 rows × 63 columns</p>\n",
              "</div>\n",
              "      <button class=\"colab-df-convert\" onclick=\"convertToInteractive('df-5bdbb6d8-fe47-424b-bc3f-05b54ce8be0b')\"\n",
              "              title=\"Convert this dataframe to an interactive table.\"\n",
              "              style=\"display:none;\">\n",
              "        \n",
              "  <svg xmlns=\"http://www.w3.org/2000/svg\" height=\"24px\"viewBox=\"0 0 24 24\"\n",
              "       width=\"24px\">\n",
              "    <path d=\"M0 0h24v24H0V0z\" fill=\"none\"/>\n",
              "    <path d=\"M18.56 5.44l.94 2.06.94-2.06 2.06-.94-2.06-.94-.94-2.06-.94 2.06-2.06.94zm-11 1L8.5 8.5l.94-2.06 2.06-.94-2.06-.94L8.5 2.5l-.94 2.06-2.06.94zm10 10l.94 2.06.94-2.06 2.06-.94-2.06-.94-.94-2.06-.94 2.06-2.06.94z\"/><path d=\"M17.41 7.96l-1.37-1.37c-.4-.4-.92-.59-1.43-.59-.52 0-1.04.2-1.43.59L10.3 9.45l-7.72 7.72c-.78.78-.78 2.05 0 2.83L4 21.41c.39.39.9.59 1.41.59.51 0 1.02-.2 1.41-.59l7.78-7.78 2.81-2.81c.8-.78.8-2.07 0-2.86zM5.41 20L4 18.59l7.72-7.72 1.47 1.35L5.41 20z\"/>\n",
              "  </svg>\n",
              "      </button>\n",
              "      \n",
              "  <style>\n",
              "    .colab-df-container {\n",
              "      display:flex;\n",
              "      flex-wrap:wrap;\n",
              "      gap: 12px;\n",
              "    }\n",
              "\n",
              "    .colab-df-convert {\n",
              "      background-color: #E8F0FE;\n",
              "      border: none;\n",
              "      border-radius: 50%;\n",
              "      cursor: pointer;\n",
              "      display: none;\n",
              "      fill: #1967D2;\n",
              "      height: 32px;\n",
              "      padding: 0 0 0 0;\n",
              "      width: 32px;\n",
              "    }\n",
              "\n",
              "    .colab-df-convert:hover {\n",
              "      background-color: #E2EBFA;\n",
              "      box-shadow: 0px 1px 2px rgba(60, 64, 67, 0.3), 0px 1px 3px 1px rgba(60, 64, 67, 0.15);\n",
              "      fill: #174EA6;\n",
              "    }\n",
              "\n",
              "    [theme=dark] .colab-df-convert {\n",
              "      background-color: #3B4455;\n",
              "      fill: #D2E3FC;\n",
              "    }\n",
              "\n",
              "    [theme=dark] .colab-df-convert:hover {\n",
              "      background-color: #434B5C;\n",
              "      box-shadow: 0px 1px 3px 1px rgba(0, 0, 0, 0.15);\n",
              "      filter: drop-shadow(0px 1px 2px rgba(0, 0, 0, 0.3));\n",
              "      fill: #FFFFFF;\n",
              "    }\n",
              "  </style>\n",
              "\n",
              "      <script>\n",
              "        const buttonEl =\n",
              "          document.querySelector('#df-5bdbb6d8-fe47-424b-bc3f-05b54ce8be0b button.colab-df-convert');\n",
              "        buttonEl.style.display =\n",
              "          google.colab.kernel.accessAllowed ? 'block' : 'none';\n",
              "\n",
              "        async function convertToInteractive(key) {\n",
              "          const element = document.querySelector('#df-5bdbb6d8-fe47-424b-bc3f-05b54ce8be0b');\n",
              "          const dataTable =\n",
              "            await google.colab.kernel.invokeFunction('convertToInteractive',\n",
              "                                                     [key], {});\n",
              "          if (!dataTable) return;\n",
              "\n",
              "          const docLinkHtml = 'Like what you see? Visit the ' +\n",
              "            '<a target=\"_blank\" href=https://colab.research.google.com/notebooks/data_table.ipynb>data table notebook</a>'\n",
              "            + ' to learn more about interactive tables.';\n",
              "          element.innerHTML = '';\n",
              "          dataTable['output_type'] = 'display_data';\n",
              "          await google.colab.output.renderOutput(dataTable, element);\n",
              "          const docLink = document.createElement('div');\n",
              "          docLink.innerHTML = docLinkHtml;\n",
              "          element.appendChild(docLink);\n",
              "        }\n",
              "      </script>\n",
              "    </div>\n",
              "  </div>\n",
              "  "
            ]
          },
          "metadata": {},
          "execution_count": 8
        }
      ]
    },
    {
      "cell_type": "code",
      "source": [
        "df.columns.tolist()"
      ],
      "metadata": {
        "colab": {
          "base_uri": "https://localhost:8080/"
        },
        "id": "lLni5sPagYpI",
        "outputId": "8f8c8dd4-5770-496b-9020-5524ca4536e4"
      },
      "execution_count": 9,
      "outputs": [
        {
          "output_type": "execute_result",
          "data": {
            "text/plain": [
              "['longitude',\n",
              " 'latitude',\n",
              " 'number_of_vehicles',\n",
              " 'number_of_casualties',\n",
              " 'speed_limit',\n",
              " 'day',\n",
              " 'month',\n",
              " 'hour',\n",
              " 'minute',\n",
              " 'accident_severity_encoding',\n",
              " 'day_of_week_Monday',\n",
              " 'day_of_week_Saturday',\n",
              " 'day_of_week_Sunday',\n",
              " 'day_of_week_Thursday',\n",
              " 'day_of_week_Tuesday',\n",
              " 'day_of_week_Wednesday',\n",
              " 'first_road_class_A',\n",
              " 'first_road_class_A(M)',\n",
              " 'first_road_class_B',\n",
              " 'first_road_class_C',\n",
              " 'first_road_class_Motorway',\n",
              " 'road_type_Dual carriageway',\n",
              " 'road_type_One way street',\n",
              " 'road_type_Roundabout',\n",
              " 'road_type_Single carriageway',\n",
              " 'junction_detail_Not at junction or within 20 metres',\n",
              " 'junction_detail_T or staggered junction',\n",
              " 'junction_detail_Crossroads',\n",
              " 'junction_detail_Roundabout',\n",
              " 'junction_detail_Private drive or entrance',\n",
              " 'junction_control_Give way or uncontrolled',\n",
              " 'junction_control_Not at junction then no control',\n",
              " 'junction_control_Auto traffic signal',\n",
              " 'second_road_class_-1',\n",
              " 'second_road_class_A',\n",
              " 'second_road_class_A(M)',\n",
              " 'second_road_class_B',\n",
              " 'second_road_class_C',\n",
              " 'second_road_class_Motorway',\n",
              " 'pedestrian_crossing_human_control_None within 50 metres ',\n",
              " 'pedestrian_crossing_physical_facilities_No physical crossing facilities within 50 metres',\n",
              " 'pedestrian_crossing_physical_facilities_Pedestrian phase at traffic signal junction',\n",
              " 'pedestrian_crossing_physical_facilities_Pelican, puffin, toucan or similar non-junction pedestrian light crossing',\n",
              " 'light_conditions_encoding',\n",
              " 'weather_conditions_Fine no high winds',\n",
              " 'weather_conditions_Raining no high winds',\n",
              " 'road_surface_conditions_Dry',\n",
              " 'road_surface_conditions_Wet or damp',\n",
              " 'special_conditions_at_site_None',\n",
              " 'carriageway_hazards_None',\n",
              " 'urban_or_rural_area_Rural',\n",
              " 'did_police_officer_attend_scene_of_accident_Yes',\n",
              " 'police_force_encoding',\n",
              " 'trunk_road_flag_Trunk (Roads managed by Highways England)',\n",
              " 'local_authority_district_encoding',\n",
              " 'local_authority_highway_encoding',\n",
              " 'first_road_number_encoding',\n",
              " 'second_road_number_encoding',\n",
              " 'lsoa_of_accident_location_encoding',\n",
              " 'week_number_encoding',\n",
              " 'accident_in_summer',\n",
              " 'accident_in_PM',\n",
              " 'accident_on_weekend']"
            ]
          },
          "metadata": {},
          "execution_count": 9
        }
      ]
    },
    {
      "cell_type": "code",
      "source": [
        "df_city= pd.read_csv(city_csv_path,index_col=0)\n",
        "df_city.head()"
      ],
      "metadata": {
        "id": "VdL8zrAehUKy",
        "colab": {
          "base_uri": "https://localhost:8080/",
          "height": 237
        },
        "outputId": "618b1112-cf8d-42b6-9f7b-f6ad20916f61"
      },
      "execution_count": 10,
      "outputs": [
        {
          "output_type": "execute_result",
          "data": {
            "text/plain": [
              "                  city\n",
              "accident_index        \n",
              "201401BS70001   London\n",
              "201401BS70002   London\n",
              "201401BS70003   London\n",
              "201401BS70004   London\n",
              "201401BS70006   London"
            ],
            "text/html": [
              "\n",
              "  <div id=\"df-e14ad89b-e1d8-4090-a857-58db67fae31b\">\n",
              "    <div class=\"colab-df-container\">\n",
              "      <div>\n",
              "<style scoped>\n",
              "    .dataframe tbody tr th:only-of-type {\n",
              "        vertical-align: middle;\n",
              "    }\n",
              "\n",
              "    .dataframe tbody tr th {\n",
              "        vertical-align: top;\n",
              "    }\n",
              "\n",
              "    .dataframe thead th {\n",
              "        text-align: right;\n",
              "    }\n",
              "</style>\n",
              "<table border=\"1\" class=\"dataframe\">\n",
              "  <thead>\n",
              "    <tr style=\"text-align: right;\">\n",
              "      <th></th>\n",
              "      <th>city</th>\n",
              "    </tr>\n",
              "    <tr>\n",
              "      <th>accident_index</th>\n",
              "      <th></th>\n",
              "    </tr>\n",
              "  </thead>\n",
              "  <tbody>\n",
              "    <tr>\n",
              "      <th>201401BS70001</th>\n",
              "      <td>London</td>\n",
              "    </tr>\n",
              "    <tr>\n",
              "      <th>201401BS70002</th>\n",
              "      <td>London</td>\n",
              "    </tr>\n",
              "    <tr>\n",
              "      <th>201401BS70003</th>\n",
              "      <td>London</td>\n",
              "    </tr>\n",
              "    <tr>\n",
              "      <th>201401BS70004</th>\n",
              "      <td>London</td>\n",
              "    </tr>\n",
              "    <tr>\n",
              "      <th>201401BS70006</th>\n",
              "      <td>London</td>\n",
              "    </tr>\n",
              "  </tbody>\n",
              "</table>\n",
              "</div>\n",
              "      <button class=\"colab-df-convert\" onclick=\"convertToInteractive('df-e14ad89b-e1d8-4090-a857-58db67fae31b')\"\n",
              "              title=\"Convert this dataframe to an interactive table.\"\n",
              "              style=\"display:none;\">\n",
              "        \n",
              "  <svg xmlns=\"http://www.w3.org/2000/svg\" height=\"24px\"viewBox=\"0 0 24 24\"\n",
              "       width=\"24px\">\n",
              "    <path d=\"M0 0h24v24H0V0z\" fill=\"none\"/>\n",
              "    <path d=\"M18.56 5.44l.94 2.06.94-2.06 2.06-.94-2.06-.94-.94-2.06-.94 2.06-2.06.94zm-11 1L8.5 8.5l.94-2.06 2.06-.94-2.06-.94L8.5 2.5l-.94 2.06-2.06.94zm10 10l.94 2.06.94-2.06 2.06-.94-2.06-.94-.94-2.06-.94 2.06-2.06.94z\"/><path d=\"M17.41 7.96l-1.37-1.37c-.4-.4-.92-.59-1.43-.59-.52 0-1.04.2-1.43.59L10.3 9.45l-7.72 7.72c-.78.78-.78 2.05 0 2.83L4 21.41c.39.39.9.59 1.41.59.51 0 1.02-.2 1.41-.59l7.78-7.78 2.81-2.81c.8-.78.8-2.07 0-2.86zM5.41 20L4 18.59l7.72-7.72 1.47 1.35L5.41 20z\"/>\n",
              "  </svg>\n",
              "      </button>\n",
              "      \n",
              "  <style>\n",
              "    .colab-df-container {\n",
              "      display:flex;\n",
              "      flex-wrap:wrap;\n",
              "      gap: 12px;\n",
              "    }\n",
              "\n",
              "    .colab-df-convert {\n",
              "      background-color: #E8F0FE;\n",
              "      border: none;\n",
              "      border-radius: 50%;\n",
              "      cursor: pointer;\n",
              "      display: none;\n",
              "      fill: #1967D2;\n",
              "      height: 32px;\n",
              "      padding: 0 0 0 0;\n",
              "      width: 32px;\n",
              "    }\n",
              "\n",
              "    .colab-df-convert:hover {\n",
              "      background-color: #E2EBFA;\n",
              "      box-shadow: 0px 1px 2px rgba(60, 64, 67, 0.3), 0px 1px 3px 1px rgba(60, 64, 67, 0.15);\n",
              "      fill: #174EA6;\n",
              "    }\n",
              "\n",
              "    [theme=dark] .colab-df-convert {\n",
              "      background-color: #3B4455;\n",
              "      fill: #D2E3FC;\n",
              "    }\n",
              "\n",
              "    [theme=dark] .colab-df-convert:hover {\n",
              "      background-color: #434B5C;\n",
              "      box-shadow: 0px 1px 3px 1px rgba(0, 0, 0, 0.15);\n",
              "      filter: drop-shadow(0px 1px 2px rgba(0, 0, 0, 0.3));\n",
              "      fill: #FFFFFF;\n",
              "    }\n",
              "  </style>\n",
              "\n",
              "      <script>\n",
              "        const buttonEl =\n",
              "          document.querySelector('#df-e14ad89b-e1d8-4090-a857-58db67fae31b button.colab-df-convert');\n",
              "        buttonEl.style.display =\n",
              "          google.colab.kernel.accessAllowed ? 'block' : 'none';\n",
              "\n",
              "        async function convertToInteractive(key) {\n",
              "          const element = document.querySelector('#df-e14ad89b-e1d8-4090-a857-58db67fae31b');\n",
              "          const dataTable =\n",
              "            await google.colab.kernel.invokeFunction('convertToInteractive',\n",
              "                                                     [key], {});\n",
              "          if (!dataTable) return;\n",
              "\n",
              "          const docLinkHtml = 'Like what you see? Visit the ' +\n",
              "            '<a target=\"_blank\" href=https://colab.research.google.com/notebooks/data_table.ipynb>data table notebook</a>'\n",
              "            + ' to learn more about interactive tables.';\n",
              "          element.innerHTML = '';\n",
              "          dataTable['output_type'] = 'display_data';\n",
              "          await google.colab.output.renderOutput(dataTable, element);\n",
              "          const docLink = document.createElement('div');\n",
              "          docLink.innerHTML = docLinkHtml;\n",
              "          element.appendChild(docLink);\n",
              "        }\n",
              "      </script>\n",
              "    </div>\n",
              "  </div>\n",
              "  "
            ]
          },
          "metadata": {},
          "execution_count": 10
        }
      ]
    },
    {
      "cell_type": "code",
      "source": [
        "longitude = df.longitude\n",
        "latitude = df.latitude\n",
        "area = df.local_authority_district_encoding"
      ],
      "metadata": {
        "id": "ickh28m2lLvb"
      },
      "execution_count": 11,
      "outputs": []
    },
    {
      "cell_type": "code",
      "source": [
        "final_city =[]\n",
        "for i in range(0,len(df_city)):\n",
        "  final_city.append(df_city.iloc[i].city)"
      ],
      "metadata": {
        "id": "em1XtV94lUPA"
      },
      "execution_count": 12,
      "outputs": []
    },
    {
      "cell_type": "code",
      "source": [
        "len(final_city)"
      ],
      "metadata": {
        "colab": {
          "base_uri": "https://localhost:8080/"
        },
        "id": "WB6OQ6gmrU5f",
        "outputId": "40d87fc6-b337-4d86-ba27-09b2d91193ae"
      },
      "execution_count": 13,
      "outputs": [
        {
          "output_type": "execute_result",
          "data": {
            "text/plain": [
              "141246"
            ]
          },
          "metadata": {},
          "execution_count": 13
        }
      ]
    },
    {
      "cell_type": "markdown",
      "source": [
        "##we will extract the Name of cities using api"
      ],
      "metadata": {
        "id": "VYk8RP5dLN4Y"
      }
    },
    {
      "cell_type": "code",
      "source": [
        "ranges = [range(0,35311),range(35311,70623),range(70623,105934),range(105934,len(final_city))]\n",
        "keys = [\"pk.89158a3387897aa581dd09c7d14ce8a4\",\"pk.3dcc799bdea16876359ace757caaaa7c\",\"pk.a0952ecbc3f62eac77e6fb5f2ab65804\",\"pk.62ab443d7a0c3a0713ebb25369618fdf\"]"
      ],
      "metadata": {
        "id": "q0eWZo-1mX_M"
      },
      "execution_count": 14,
      "outputs": []
    },
    {
      "cell_type": "code",
      "source": [
        "index_of_range = 0"
      ],
      "metadata": {
        "id": "GXILcs4KsIej"
      },
      "execution_count": 15,
      "outputs": []
    },
    {
      "cell_type": "code",
      "source": [
        "keys[index_of_range]"
      ],
      "metadata": {
        "colab": {
          "base_uri": "https://localhost:8080/",
          "height": 35
        },
        "id": "eadAiDZ7oCXZ",
        "outputId": "34f580bc-3e55-4e3d-e748-6190a0c0e6d1"
      },
      "execution_count": 16,
      "outputs": [
        {
          "output_type": "execute_result",
          "data": {
            "text/plain": [
              "'pk.89158a3387897aa581dd09c7d14ce8a4'"
            ],
            "application/vnd.google.colaboratory.intrinsic+json": {
              "type": "string"
            }
          },
          "metadata": {},
          "execution_count": 16
        }
      ]
    },
    {
      "cell_type": "code",
      "source": [
        "map = {}"
      ],
      "metadata": {
        "id": "d6KjDccUaywQ"
      },
      "execution_count": 17,
      "outputs": []
    },
    {
      "cell_type": "code",
      "source": [
        "c = 0\n",
        "for i in tqdm(range(0,len(final_city))):\n",
        "  if(final_city[i]==\"no\"):\n",
        "    if(area.iloc[i] in map.keys()):\n",
        "      final_city[i] = map[area.iloc[i]]\n",
        "    else:\n",
        "      try:\n",
        "        api_url = \"https://us1.locationiq.com/v1/reverse?key=\"+keys[index_of_range]+\"&lat=\"+str(latitude.iloc[i])+\"&lon=\"+str(longitude.iloc[i])+\"&format=json\"\n",
        "        response = requests.get(api_url).json()\n",
        "        add_keys = response['address'].keys()\n",
        "        if('city' in add_keys):\n",
        "          final_city[i] = response['address']['city']\n",
        "        elif('town' in add_keys):\n",
        "          final_city[i] = response['address']['town']\n",
        "        elif ('county' in add_keys):\n",
        "          final_city[i] = response['address']['county']\n",
        "        map[area.iloc[i]] = final_city[i]\n",
        "        time.sleep(1)\n",
        "      except:\n",
        "        time.sleep(1)\n",
        "        print(response)\n",
        "        c+=1\n",
        "  else:\n",
        "    if(not(area.iloc[i] in map.keys())):\n",
        "      map[area.iloc[i]] = final_city[i]\n",
        "\n",
        "  if(i%10000==0):\n",
        "    df_city['city'] = final_city\n",
        "    df_city.to_csv(city_csv_path,index=True)\n",
        "df_city['city'] = final_city\n",
        "df_city.to_csv(city_csv_path,index=True)\n",
        "print(\"except\",c)\n"
      ],
      "metadata": {
        "colab": {
          "base_uri": "https://localhost:8080/"
        },
        "id": "kx9to6x-i6dw",
        "outputId": "196ba7d8-daf6-45c1-9ae3-cfc08134d404"
      },
      "execution_count": 18,
      "outputs": [
        {
          "output_type": "stream",
          "name": "stderr",
          "text": [
            "100%|██████████| 141246/141246 [00:05<00:00, 27597.20it/s]\n"
          ]
        },
        {
          "output_type": "stream",
          "name": "stdout",
          "text": [
            "except 0\n"
          ]
        }
      ]
    },
    {
      "cell_type": "code",
      "source": [
        "len(df_city['city'].unique())"
      ],
      "metadata": {
        "colab": {
          "base_uri": "https://localhost:8080/"
        },
        "id": "dUE07lxkk_pq",
        "outputId": "518569c1-8846-4e38-995d-d745bd870701"
      },
      "execution_count": 49,
      "outputs": [
        {
          "output_type": "execute_result",
          "data": {
            "text/plain": [
              "324"
            ]
          },
          "metadata": {},
          "execution_count": 49
        }
      ]
    },
    {
      "cell_type": "code",
      "source": [
        "df['city'] = final_city\n",
        "df.to_csv(dataset_csv_res,index=True)"
      ],
      "metadata": {
        "id": "mfJMQthAERbr"
      },
      "execution_count": 20,
      "outputs": []
    },
    {
      "cell_type": "markdown",
      "source": [
        "#Q in which city the most number of accidents happened"
      ],
      "metadata": {
        "id": "D2H_ErHeJ-_1"
      }
    },
    {
      "cell_type": "code",
      "source": [
        "percent_number_of_cities = percentOfCategories(df.city,r=3)\n",
        "percent_number_of_cities"
      ],
      "metadata": {
        "id": "wXdGW9ckYFaW",
        "colab": {
          "base_uri": "https://localhost:8080/"
        },
        "outputId": "637dc978-f146-4af5-ca27-3328210498d3"
      },
      "execution_count": 21,
      "outputs": [
        {
          "output_type": "execute_result",
          "data": {
            "text/plain": [
              "{'London': 15.775,\n",
              " 'City of London': 2.242,\n",
              " 'Borough of Copeland': 0.136,\n",
              " 'Allerdale': 0.186,\n",
              " 'South Lakeland': 0.207,\n",
              " 'Carlisle': 0.201,\n",
              " 'Eden District': 0.111,\n",
              " 'Barrow-in-Furness': 0.107,\n",
              " 'Borough of Fylde': 0.154,\n",
              " 'Borough of Wyre': 0.163,\n",
              " 'Little Marton': 0.282,\n",
              " 'Preston': 0.61,\n",
              " 'Lancaster': 0.281,\n",
              " 'Chorley': 0.197,\n",
              " 'West Lancashire': 0.2,\n",
              " 'Blackburn': 0.275,\n",
              " 'Hyndburn': 0.143,\n",
              " 'Borough of Pendle': 0.125,\n",
              " 'Borough of Rossendale': 0.113,\n",
              " 'Burnley': 0.161,\n",
              " 'Kirkby': 0.187,\n",
              " 'no': 0.001,\n",
              " 'Birkenhead': 0.37,\n",
              " 'Liverpool': 0.864,\n",
              " 'St Helens': 0.216,\n",
              " 'Litherland': 0.33,\n",
              " 'Manchester': 0.704,\n",
              " 'Salford': 0.484,\n",
              " 'Tameside': 0.202,\n",
              " 'Cheadle': 0.205,\n",
              " 'Farnworth': 0.314,\n",
              " 'Wigan': 0.222,\n",
              " 'Bury': 0.165,\n",
              " 'Rochdale': 0.222,\n",
              " 'Oldham': 0.255,\n",
              " 'Poynton': 0.695,\n",
              " 'Ellesmere Port': 0.582,\n",
              " 'Birchwood': 0.379,\n",
              " 'Halton': 0.001,\n",
              " 'Runcorn': 0.193,\n",
              " 'Sunderland': 0.401,\n",
              " 'Ashington': 0.503,\n",
              " 'Newcastle upon Tyne': 0.509,\n",
              " 'Gateshead': 0.349,\n",
              " 'North Tyneside': 0.285,\n",
              " 'South Tyneside': 0.195,\n",
              " 'County Durham': 0.001,\n",
              " 'Durham': 0.71,\n",
              " 'Darlington': 0.161,\n",
              " 'Loftus': 0.152,\n",
              " 'Harrogate': 0.314,\n",
              " 'Hambleton': 0.172,\n",
              " 'Ryedale': 0.108,\n",
              " 'York': 0.332,\n",
              " 'Richmondshire': 0.108,\n",
              " 'Tadcaster': 0.12,\n",
              " 'Craven District': 0.125,\n",
              " 'Leeds': 1.338,\n",
              " 'Bradford': 0.869,\n",
              " 'Calderdale': 0.294,\n",
              " 'Kirklees': 0.543,\n",
              " 'Wakefield': 0.444,\n",
              " 'Doncaster': 0.918,\n",
              " 'Cudworth': 0.377,\n",
              " 'Sheffield': 0.809,\n",
              " 'North East Lincolnshire': 0.001,\n",
              " 'Grimsby': 0.363,\n",
              " 'North Lincolnshire': 0.001,\n",
              " 'Scunthorpe': 0.384,\n",
              " 'Selby': 0.59,\n",
              " 'Hull': 0.56,\n",
              " 'Hartlepool': 0.101,\n",
              " 'Guisborough': 0.13,\n",
              " 'Middlesbrough': 0.202,\n",
              " 'Stockton-on-Tees': 0.195,\n",
              " 'Wolverhampton': 0.321,\n",
              " 'Bloxwich': 0.351,\n",
              " 'Metropolitan Borough of Dudley': 0.315,\n",
              " 'Sandwell': 0.419,\n",
              " 'Shirley': 0.194,\n",
              " 'Coventry': 0.421,\n",
              " 'Birmingham': 1.776,\n",
              " 'Borough of Newcastle-under-Lyme': 0.209,\n",
              " 'Stoke-on-Trent': 0.448,\n",
              " 'East Staffordshire': 0.243,\n",
              " 'Staffordshire Moorlands': 0.159,\n",
              " 'South Staffordshire': 0.233,\n",
              " 'Cannock Chase': 0.154,\n",
              " 'Stafford': 0.244,\n",
              " 'Lichfield': 0.195,\n",
              " 'Tamworth': 0.086,\n",
              " 'Wychavon': 0.166,\n",
              " 'Malvern Hills District': 0.127,\n",
              " 'Worcester, England': 0.116,\n",
              " 'Herefordshire': 0.001,\n",
              " 'Wyre Forest District': 0.13,\n",
              " 'Redditch': 0.067,\n",
              " 'Telford': 0.205,\n",
              " 'Bromsgrove': 0.115,\n",
              " 'Ledbury': 0.273,\n",
              " 'Shrewsbury': 0.427,\n",
              " 'Warwick': 0.508,\n",
              " 'Nuneaton and Bedworth': 0.215,\n",
              " 'North Warwickshire': 0.189,\n",
              " 'Rugby': 0.255,\n",
              " 'High Peak': 0.156,\n",
              " 'Derby': 0.452,\n",
              " 'Chesterfield': 0.131,\n",
              " 'South Derbyshire': 0.149,\n",
              " 'Bolsover': 0.125,\n",
              " 'Borough of Erewash': 0.166,\n",
              " 'Amber Valley': 0.166,\n",
              " 'North East Derbyshire': 0.162,\n",
              " 'Derbyshire Dales': 0.142,\n",
              " 'Ashfield District': 0.199,\n",
              " 'Mansfield Woodhouse': 0.183,\n",
              " 'North Kesteven': 0.441,\n",
              " 'Bassetlaw': 0.181,\n",
              " 'Nottingham': 0.84,\n",
              " 'Rushcliffe': 0.176,\n",
              " 'Gedling': 0.156,\n",
              " 'Boston': 0.136,\n",
              " 'South Kesteven': 0.236,\n",
              " 'South Holland': 0.193,\n",
              " 'East Lindsey': 0.321,\n",
              " 'Lincoln': 0.192,\n",
              " 'West Lindsey': 0.177,\n",
              " 'Borough of Charnwood': 0.215,\n",
              " 'North West Leicestershire': 0.173,\n",
              " 'Harborough District': 0.281,\n",
              " 'Leicester': 0.654,\n",
              " 'Borough of Melton': 0.086,\n",
              " 'Oadby and Wigston': 0.062,\n",
              " 'Leicestershire': 0.034,\n",
              " 'Hinckley and Bosworth': 0.16,\n",
              " 'Rutland': 0.001,\n",
              " 'Uppingham': 0.06,\n",
              " 'Corby': 0.059,\n",
              " 'Newton and Little Oakley': 0.135,\n",
              " 'North Northamptonshire': 0.03,\n",
              " 'Welford': 0.13,\n",
              " 'Oundle': 0.079,\n",
              " 'Finedon': 0.072,\n",
              " 'Brackley': 0.129,\n",
              " 'West Northamptonshire': 0.275,\n",
              " 'Peterborough': 0.338,\n",
              " 'Cambridgeshire': 1.056,\n",
              " 'South Norfolk': 0.219,\n",
              " 'Great Yarmouth': 0.125,\n",
              " 'Norwich': 0.283,\n",
              " 'North Norfolk': 0.11,\n",
              " \"King's Lynn and West Norfolk\": 0.215,\n",
              " 'Breckland District': 0.193,\n",
              " 'Broadland': 0.185,\n",
              " 'Ipswich': 0.221,\n",
              " 'West Suffolk': 0.275,\n",
              " 'East Suffolk': 0.385,\n",
              " 'Babergh': 0.203,\n",
              " 'Mid Suffolk': 0.143,\n",
              " 'North Hertfordshire': 0.473,\n",
              " 'Bedford': 0.314,\n",
              " 'Luton': 0.327,\n",
              " 'East Hertfordshire': 0.629,\n",
              " 'St Albans': 0.233,\n",
              " 'Watford': 0.309,\n",
              " 'Broxbourne': 0.148,\n",
              " 'Dacorum': 0.165,\n",
              " 'Hertsmere': 0.236,\n",
              " 'Stevenage': 0.113,\n",
              " 'Colchester': 0.489,\n",
              " 'Braintree': 0.217,\n",
              " 'Maldon': 0.096,\n",
              " 'Brentwood': 0.136,\n",
              " 'Chelmsford': 0.246,\n",
              " 'Basildon': 0.324,\n",
              " 'Grays': 0.277,\n",
              " 'Southend-on-Sea': 0.316,\n",
              " 'Castle Point': 0.12,\n",
              " 'Epping Forest': 0.305,\n",
              " 'Harlow': 0.105,\n",
              " 'Rochford': 0.123,\n",
              " 'Uttlesford': 0.133,\n",
              " 'Iver': 0.169,\n",
              " 'Chesham': 0.094,\n",
              " 'Buckinghamshire': 0.578,\n",
              " 'High Wycombe': 0.241,\n",
              " 'South Oxfordshire': 0.195,\n",
              " 'West Oxfordshire': 0.171,\n",
              " 'Oxford': 0.317,\n",
              " 'Vale of White Horse': 0.203,\n",
              " 'Maidenhead': 0.248,\n",
              " 'Bracknell Forest': 0.134,\n",
              " 'Slough': 0.304,\n",
              " 'Borough of Wokingham': 0.188,\n",
              " 'Reading': 0.253,\n",
              " 'West Berkshire': 0.227,\n",
              " 'Milton Keynes': 0.485,\n",
              " 'Southampton': 0.447,\n",
              " 'Basingstoke and Deane': 0.235,\n",
              " 'Hart': 0.146,\n",
              " 'Fareham': 0.193,\n",
              " 'New Forest': 0.295,\n",
              " 'Portsmouth': 0.411,\n",
              " 'Test Valley': 0.207,\n",
              " 'East Hampshire': 0.176,\n",
              " 'Eastleigh': 0.191,\n",
              " 'Winchester': 0.252,\n",
              " 'Isle of Wight': 0.229,\n",
              " 'Rushmoor': 0.139,\n",
              " 'Gosport': 0.103,\n",
              " 'Waterlooville': 0.16,\n",
              " 'Mole Valley': 0.22,\n",
              " 'Borough of Runnymede': 0.257,\n",
              " 'Elmbridge': 0.237,\n",
              " 'Waverley': 0.228,\n",
              " 'Borough of Spelthorne': 0.234,\n",
              " 'Reigate and Banstead': 0.307,\n",
              " 'Guildford': 0.386,\n",
              " 'Surrey Heath': 0.193,\n",
              " 'Epsom and Ewell': 0.116,\n",
              " 'Woking': 0.189,\n",
              " 'Surrey': 0.239,\n",
              " 'Tonbridge and Malling': 0.286,\n",
              " 'Chatham': 0.466,\n",
              " 'Borough of Swale': 0.286,\n",
              " 'Sevenoaks': 0.262,\n",
              " 'Thanet District': 0.282,\n",
              " 'Ashford': 0.24,\n",
              " 'Folkestone and Hythe District': 0.205,\n",
              " 'Dartford': 0.302,\n",
              " 'Canterbury': 0.282,\n",
              " 'Gravesham': 0.199,\n",
              " 'Maidstone': 0.37,\n",
              " 'Tunbridge Wells': 0.232,\n",
              " 'Dover': 0.17,\n",
              " 'Seaford': 0.166,\n",
              " 'Woodingdean': 0.539,\n",
              " 'Mid Sussex District': 0.258,\n",
              " 'Eastbourne': 0.453,\n",
              " 'Horsham': 0.215,\n",
              " 'Arun': 0.245,\n",
              " 'St Leonards': 0.156,\n",
              " 'Worthing': 0.181,\n",
              " 'Rother District': 0.209,\n",
              " 'Adur': 0.118,\n",
              " 'Chichester': 0.243,\n",
              " 'Crawley': 0.186,\n",
              " 'Camborne': 0.918,\n",
              " 'Torridge District': 0.18,\n",
              " 'North Devon': 0.338,\n",
              " 'Plymouth': 0.418,\n",
              " 'South Hams': 0.164,\n",
              " 'Torbay': 0.211,\n",
              " 'Teignbridge': 0.236,\n",
              " 'East Devon': 0.213,\n",
              " 'Mid Devon': 0.098,\n",
              " 'Sedgemoor': 0.192,\n",
              " 'South Somerset': 0.246,\n",
              " 'Somerset West and Taunton': 0.219,\n",
              " 'Mendip District': 0.139,\n",
              " 'Bristol': 0.709,\n",
              " 'South Gloucestershire': 0.294,\n",
              " 'Weston-super-Mare': 0.249,\n",
              " 'Bath': 0.181,\n",
              " 'Tewkesbury': 0.082,\n",
              " 'Forest of Dean District': 0.072,\n",
              " 'Stroud': 0.095,\n",
              " 'Cotswold District': 0.11,\n",
              " 'Gloucester': 0.113,\n",
              " 'Cheltenham': 0.092,\n",
              " 'Warminster': 0.817,\n",
              " 'Swindon': 0.296,\n",
              " 'Bournemouth': 0.375,\n",
              " 'Creekmoor': 0.273,\n",
              " 'Verwood': 0.152,\n",
              " 'Dorset': 0.273,\n",
              " 'Blandford Forum': 0.068,\n",
              " 'Christchurch': 0.067,\n",
              " 'Weymouth': 0.084,\n",
              " 'Wrexham': 0.174,\n",
              " 'Isle of Anglesey': 0.076,\n",
              " 'Conwy': 0.205,\n",
              " 'Denbigh': 0.152,\n",
              " 'Flintshire': 0.198,\n",
              " 'Gwynedd': 0.179,\n",
              " 'Newport': 0.211,\n",
              " 'Monmouthshire': 0.094,\n",
              " 'Blaenau Gwent': 0.069,\n",
              " 'Cwmbran': 0.094,\n",
              " 'Rhymney': 0.145,\n",
              " 'Cardiff': 0.452,\n",
              " 'Rhondda Cynon Taf': 0.287,\n",
              " 'Briton Ferry': 0.172,\n",
              " 'Swansea': 0.317,\n",
              " 'Bridgend County Borough': 0.168,\n",
              " 'Merthyr Tydfil': 0.081,\n",
              " 'Barry': 0.162,\n",
              " 'Carmarthenshire': 0.285,\n",
              " 'Ceredigion': 0.12,\n",
              " 'Pembrokeshire': 0.191,\n",
              " 'Knighton': 0.269,\n",
              " 'Perth and Kinross': 0.03,\n",
              " 'Leven': 0.264,\n",
              " 'Whitburn': 0.217,\n",
              " 'City of Edinburgh': 0.861,\n",
              " 'Bonnyrigg': 0.131,\n",
              " 'Scottish Borders': 0.152,\n",
              " 'East Lothian': 0.123,\n",
              " 'Falkirk': 0.158,\n",
              " 'Clackmannanshire': 0.043,\n",
              " 'Bannockburn': 0.108,\n",
              " 'Dalmellington': 0.115,\n",
              " 'Glasgow': 0.852,\n",
              " 'East Dunbartonshire': 0.072,\n",
              " 'Renfrew': 0.173,\n",
              " 'Giffnock': 0.064,\n",
              " 'Inverclyde': 0.09,\n",
              " 'Dumbarton': 0.077,\n",
              " 'Argyll and Bute': 0.091,\n",
              " 'Coatbridge': 0.332,\n",
              " 'Bothwell': 0.35,\n",
              " 'Kilbirnie': 0.125,\n",
              " 'South Ayrshire': 0.138,\n",
              " 'Dumfries and Galloway': 0.219}"
            ]
          },
          "metadata": {},
          "execution_count": 21
        }
      ]
    },
    {
      "cell_type": "code",
      "source": [
        "top_10_city = calculate_top_categories(df,'city',10)\n",
        "percent_number_of_cities_top = {}\n",
        "for x in top_10_city:\n",
        "  percent_number_of_cities_top[x] = percent_number_of_cities[x]"
      ],
      "metadata": {
        "id": "fdOtzSbiEwgI"
      },
      "execution_count": 33,
      "outputs": []
    },
    {
      "cell_type": "code",
      "source": [
        "percent_number_of_cities_top"
      ],
      "metadata": {
        "colab": {
          "base_uri": "https://localhost:8080/"
        },
        "id": "VnyQL4OeGx_-",
        "outputId": "f241f611-a6ae-4077-ae46-176297a9969b"
      },
      "execution_count": 34,
      "outputs": [
        {
          "output_type": "execute_result",
          "data": {
            "text/plain": [
              "{'London': 15.775,\n",
              " 'City of London': 2.242,\n",
              " 'Birmingham': 1.776,\n",
              " 'Leeds': 1.338,\n",
              " 'Cambridgeshire': 1.056,\n",
              " 'Camborne': 0.918,\n",
              " 'Doncaster': 0.918,\n",
              " 'Bradford': 0.869,\n",
              " 'Liverpool': 0.864,\n",
              " 'City of Edinburgh': 0.861}"
            ]
          },
          "metadata": {},
          "execution_count": 34
        }
      ]
    },
    {
      "cell_type": "code",
      "source": [
        "plotPercentageCol(percent_number_of_cities_top ,dim1=20,r=3)"
      ],
      "metadata": {
        "colab": {
          "base_uri": "https://localhost:8080/",
          "height": 276
        },
        "id": "6kigmVWcE_Tw",
        "outputId": "5f4f32d1-3cc1-4d7e-a9bc-9c4c08347d85"
      },
      "execution_count": 39,
      "outputs": [
        {
          "output_type": "display_data",
          "data": {
            "text/plain": [
              "<Figure size 1440x360 with 1 Axes>"
            ],
            "image/png": "[encoded data removed]"
          },
          "metadata": {
            "needs_background": "light"
          }
        }
      ]
    },
    {
      "cell_type": "markdown",
      "source": [
        "### AS shown London was the city with the most number of accidents\n",
        "\n",
        "\n",
        "\n"
      ],
      "metadata": {
        "id": "ztAPObyRKRD2"
      }
    },
    {
      "cell_type": "markdown",
      "source": [
        "##Q2 in which city the most number of accidents happened in first road with class A"
      ],
      "metadata": {
        "id": "PTmM2neQHRa7"
      }
    },
    {
      "cell_type": "code",
      "source": [
        "df_q2 = df[df['first_road_class_A']==1]"
      ],
      "metadata": {
        "id": "cFbwsiq-GnGI"
      },
      "execution_count": 36,
      "outputs": []
    },
    {
      "cell_type": "code",
      "source": [
        "percent_number_of_cities_class_A = percentOfCategories(df_q2.city,r=3)\n",
        "percent_number_of_cities_class_A"
      ],
      "metadata": {
        "colab": {
          "base_uri": "https://localhost:8080/"
        },
        "id": "lWjscrU1HS-5",
        "outputId": "cdf4dbd0-d4e1-480d-c572-e6d2172621d5"
      },
      "execution_count": 37,
      "outputs": [
        {
          "output_type": "execute_result",
          "data": {
            "text/plain": [
              "{'London': 21.592,\n",
              " 'City of London': 3.18,\n",
              " 'Borough of Copeland': 0.113,\n",
              " 'Allerdale': 0.205,\n",
              " 'South Lakeland': 0.263,\n",
              " 'Carlisle': 0.176,\n",
              " 'Eden District': 0.118,\n",
              " 'Barrow-in-Furness': 0.053,\n",
              " 'Borough of Fylde': 0.131,\n",
              " 'Borough of Wyre': 0.137,\n",
              " 'Little Marton': 0.235,\n",
              " 'Preston': 0.444,\n",
              " 'Lancaster': 0.241,\n",
              " 'Chorley': 0.128,\n",
              " 'West Lancashire': 0.186,\n",
              " 'Blackburn': 0.202,\n",
              " 'Hyndburn': 0.101,\n",
              " 'Borough of Pendle': 0.107,\n",
              " 'Borough of Rossendale': 0.137,\n",
              " 'Burnley': 0.122,\n",
              " 'no': 0.002,\n",
              " 'Birkenhead': 0.285,\n",
              " 'Kirkby': 0.142,\n",
              " 'St Helens': 0.192,\n",
              " 'Litherland': 0.34,\n",
              " 'Liverpool': 0.829,\n",
              " 'Manchester': 0.733,\n",
              " 'Salford': 0.464,\n",
              " 'Tameside': 0.188,\n",
              " 'Cheadle': 0.203,\n",
              " 'Farnworth': 0.302,\n",
              " 'Wigan': 0.234,\n",
              " 'Bury': 0.159,\n",
              " 'Rochdale': 0.218,\n",
              " 'Oldham': 0.244,\n",
              " 'Ellesmere Port': 0.609,\n",
              " 'Birchwood': 0.333,\n",
              " 'Poynton': 0.647,\n",
              " 'Halton': 0.002,\n",
              " 'Runcorn': 0.142,\n",
              " 'Ashington': 0.585,\n",
              " 'Gateshead': 0.29,\n",
              " 'Sunderland': 0.386,\n",
              " 'Newcastle upon Tyne': 0.45,\n",
              " 'South Tyneside': 0.185,\n",
              " 'North Tyneside': 0.353,\n",
              " 'Durham': 0.516,\n",
              " 'Darlington': 0.131,\n",
              " 'Loftus': 0.154,\n",
              " 'Harrogate': 0.307,\n",
              " 'Ryedale': 0.133,\n",
              " 'Hambleton': 0.206,\n",
              " 'York': 0.34,\n",
              " 'Tadcaster': 0.15,\n",
              " 'Richmondshire': 0.115,\n",
              " 'Craven District': 0.127,\n",
              " 'Bradford': 0.707,\n",
              " 'Leeds': 1.047,\n",
              " 'Calderdale': 0.299,\n",
              " 'Wakefield': 0.429,\n",
              " 'Kirklees': 0.519,\n",
              " 'Doncaster': 0.772,\n",
              " 'Cudworth': 0.347,\n",
              " 'Sheffield': 0.682,\n",
              " 'Grimsby': 0.305,\n",
              " 'North Lincolnshire': 0.002,\n",
              " 'Scunthorpe': 0.29,\n",
              " 'Selby': 0.466,\n",
              " 'Hull': 0.453,\n",
              " 'Hartlepool': 0.092,\n",
              " 'Guisborough': 0.105,\n",
              " 'Middlesbrough': 0.156,\n",
              " 'Stockton-on-Tees': 0.212,\n",
              " 'Wolverhampton': 0.324,\n",
              " 'Bloxwich': 0.29,\n",
              " 'Metropolitan Borough of Dudley': 0.322,\n",
              " 'Sandwell': 0.409,\n",
              " 'Shirley': 0.104,\n",
              " 'Coventry': 0.246,\n",
              " 'Birmingham': 1.351,\n",
              " 'Borough of Newcastle-under-Lyme': 0.229,\n",
              " 'Stoke-on-Trent': 0.586,\n",
              " 'Staffordshire Moorlands': 0.174,\n",
              " 'East Staffordshire': 0.255,\n",
              " 'Stafford': 0.256,\n",
              " 'Cannock Chase': 0.14,\n",
              " 'Lichfield': 0.249,\n",
              " 'Tamworth': 0.063,\n",
              " 'South Staffordshire': 0.203,\n",
              " 'Wychavon': 0.154,\n",
              " 'Malvern Hills District': 0.098,\n",
              " 'Worcester, England': 0.11,\n",
              " 'Herefordshire': 0.002,\n",
              " 'Telford': 0.122,\n",
              " 'Wyre Forest District': 0.153,\n",
              " 'Ledbury': 0.354,\n",
              " 'Shrewsbury': 0.482,\n",
              " 'Bromsgrove': 0.081,\n",
              " 'Redditch': 0.031,\n",
              " 'Warwick': 0.469,\n",
              " 'Nuneaton and Bedworth': 0.096,\n",
              " 'North Warwickshire': 0.102,\n",
              " 'Rugby': 0.176,\n",
              " 'Chesterfield': 0.085,\n",
              " 'Derby': 0.47,\n",
              " 'Amber Valley': 0.15,\n",
              " 'South Derbyshire': 0.166,\n",
              " 'Bolsover': 0.066,\n",
              " 'North East Derbyshire': 0.147,\n",
              " 'Derbyshire Dales': 0.194,\n",
              " 'Borough of Erewash': 0.148,\n",
              " 'High Peak': 0.212,\n",
              " 'Ashfield District': 0.108,\n",
              " 'Mansfield Woodhouse': 0.191,\n",
              " 'North Kesteven': 0.406,\n",
              " 'Bassetlaw': 0.197,\n",
              " 'Nottingham': 0.852,\n",
              " 'Rushcliffe': 0.191,\n",
              " 'Gedling': 0.082,\n",
              " 'Boston': 0.124,\n",
              " 'South Kesteven': 0.263,\n",
              " 'West Lindsey': 0.212,\n",
              " 'Lincoln': 0.11,\n",
              " 'East Lindsey': 0.351,\n",
              " 'South Holland': 0.153,\n",
              " 'Borough of Charnwood': 0.186,\n",
              " 'Borough of Melton': 0.089,\n",
              " 'Leicester': 0.576,\n",
              " 'Harborough District': 0.191,\n",
              " 'Hinckley and Bosworth': 0.089,\n",
              " 'Rutland': 0.003,\n",
              " 'North West Leicestershire': 0.119,\n",
              " 'Leicestershire': 0.015,\n",
              " 'Uppingham': 0.072,\n",
              " 'Oadby and Wigston': 0.031,\n",
              " 'Corby': 0.063,\n",
              " 'Newton and Little Oakley': 0.16,\n",
              " 'North Northamptonshire': 0.037,\n",
              " 'Welford': 0.127,\n",
              " 'Oundle': 0.079,\n",
              " 'Finedon': 0.067,\n",
              " 'Brackley': 0.105,\n",
              " 'West Northamptonshire': 0.353,\n",
              " 'Peterborough': 0.321,\n",
              " 'Cambridgeshire': 1.087,\n",
              " 'Great Yarmouth': 0.084,\n",
              " 'Norwich': 0.308,\n",
              " \"King's Lynn and West Norfolk\": 0.256,\n",
              " 'South Norfolk': 0.168,\n",
              " 'Breckland District': 0.16,\n",
              " 'North Norfolk': 0.098,\n",
              " 'Broadland': 0.171,\n",
              " 'Ipswich': 0.234,\n",
              " 'West Suffolk': 0.27,\n",
              " 'Mid Suffolk': 0.119,\n",
              " 'Babergh': 0.235,\n",
              " 'East Suffolk': 0.385,\n",
              " 'North Hertfordshire': 0.351,\n",
              " 'Bedford': 0.336,\n",
              " 'Luton': 0.243,\n",
              " 'East Hertfordshire': 0.492,\n",
              " 'St Albans': 0.177,\n",
              " 'Watford': 0.281,\n",
              " 'Dacorum': 0.168,\n",
              " 'Hertsmere': 0.186,\n",
              " 'Stevenage': 0.078,\n",
              " 'Broxbourne': 0.133,\n",
              " 'Colchester': 0.328,\n",
              " 'Chelmsford': 0.256,\n",
              " 'Basildon': 0.34,\n",
              " 'Grays': 0.318,\n",
              " 'Southend-on-Sea': 0.281,\n",
              " 'Castle Point': 0.09,\n",
              " 'Epping Forest': 0.166,\n",
              " 'Harlow': 0.087,\n",
              " 'Brentwood': 0.162,\n",
              " 'Braintree': 0.191,\n",
              " 'Maldon': 0.012,\n",
              " 'Rochford': 0.056,\n",
              " 'Uttlesford': 0.037,\n",
              " 'Chesham': 0.105,\n",
              " 'High Wycombe': 0.214,\n",
              " 'Buckinghamshire': 0.563,\n",
              " 'Iver': 0.125,\n",
              " 'South Oxfordshire': 0.151,\n",
              " 'West Oxfordshire': 0.177,\n",
              " 'Vale of White Horse': 0.235,\n",
              " 'Oxford': 0.334,\n",
              " 'Slough': 0.224,\n",
              " 'Maidenhead': 0.209,\n",
              " 'Bracknell Forest': 0.136,\n",
              " 'Borough of Wokingham': 0.16,\n",
              " 'Milton Keynes': 0.24,\n",
              " 'Reading': 0.275,\n",
              " 'West Berkshire': 0.192,\n",
              " 'Southampton': 0.398,\n",
              " 'Portsmouth': 0.408,\n",
              " 'Test Valley': 0.211,\n",
              " 'New Forest': 0.311,\n",
              " 'Eastleigh': 0.144,\n",
              " 'Basingstoke and Deane': 0.211,\n",
              " 'East Hampshire': 0.168,\n",
              " 'Rushmoor': 0.116,\n",
              " 'Isle of Wight': 0.206,\n",
              " 'Fareham': 0.16,\n",
              " 'Gosport': 0.049,\n",
              " 'Hart': 0.104,\n",
              " 'Waterlooville': 0.095,\n",
              " 'Winchester': 0.16,\n",
              " 'Reigate and Banstead': 0.269,\n",
              " 'Waverley': 0.246,\n",
              " 'Borough of Runnymede': 0.194,\n",
              " 'Guildford': 0.534,\n",
              " 'Surrey Heath': 0.191,\n",
              " 'Epsom and Ewell': 0.096,\n",
              " 'Mole Valley': 0.223,\n",
              " 'Woking': 0.189,\n",
              " 'Borough of Spelthorne': 0.186,\n",
              " 'Elmbridge': 0.269,\n",
              " 'Surrey': 0.113,\n",
              " 'Tonbridge and Malling': 0.269,\n",
              " 'Chatham': 0.45,\n",
              " 'Borough of Swale': 0.256,\n",
              " 'Ashford': 0.235,\n",
              " 'Folkestone and Hythe District': 0.232,\n",
              " 'Thanet District': 0.26,\n",
              " 'Dartford': 0.421,\n",
              " 'Tunbridge Wells': 0.272,\n",
              " 'Sevenoaks': 0.163,\n",
              " 'Canterbury': 0.295,\n",
              " 'Gravesham': 0.191,\n",
              " 'Dover': 0.174,\n",
              " 'Maidstone': 0.406,\n",
              " 'Seaford': 0.191,\n",
              " 'Mid Sussex District': 0.195,\n",
              " 'Horsham': 0.244,\n",
              " 'Arun': 0.249,\n",
              " 'St Leonards': 0.173,\n",
              " 'Worthing': 0.171,\n",
              " 'Rother District': 0.243,\n",
              " 'Eastbourne': 0.46,\n",
              " 'Woodingdean': 0.49,\n",
              " 'Chichester': 0.276,\n",
              " 'Crawley': 0.165,\n",
              " 'Adur': 0.145,\n",
              " 'Camborne': 0.908,\n",
              " 'Torridge District': 0.183,\n",
              " 'North Devon': 0.272,\n",
              " 'Plymouth': 0.209,\n",
              " 'South Hams': 0.195,\n",
              " 'Torbay': 0.154,\n",
              " 'Teignbridge': 0.281,\n",
              " 'East Devon': 0.202,\n",
              " 'Mid Devon': 0.085,\n",
              " 'Sedgemoor': 0.197,\n",
              " 'Somerset West and Taunton': 0.25,\n",
              " 'South Somerset': 0.296,\n",
              " 'Mendip District': 0.137,\n",
              " 'Bristol': 0.689,\n",
              " 'South Gloucestershire': 0.227,\n",
              " 'Weston-super-Mare': 0.192,\n",
              " 'Bath': 0.211,\n",
              " 'Tewkesbury': 0.061,\n",
              " 'Forest of Dean District': 0.073,\n",
              " 'Stroud': 0.081,\n",
              " 'Cotswold District': 0.151,\n",
              " 'Cheltenham': 0.081,\n",
              " 'Gloucester': 0.096,\n",
              " 'Warminster': 0.937,\n",
              " 'Swindon': 0.211,\n",
              " 'Bournemouth': 0.304,\n",
              " 'Creekmoor': 0.206,\n",
              " 'Blandford Forum': 0.049,\n",
              " 'Dorset': 0.299,\n",
              " 'Weymouth': 0.067,\n",
              " 'Christchurch': 0.064,\n",
              " 'Verwood': 0.139,\n",
              " 'Isle of Anglesey': 0.072,\n",
              " 'Wrexham': 0.156,\n",
              " 'Conwy': 0.243,\n",
              " 'Flintshire': 0.194,\n",
              " 'Gwynedd': 0.261,\n",
              " 'Denbigh': 0.195,\n",
              " 'Monmouthshire': 0.085,\n",
              " 'Rhymney': 0.105,\n",
              " 'Newport': 0.122,\n",
              " 'Cwmbran': 0.082,\n",
              " 'Blaenau Gwent': 0.06,\n",
              " 'Cardiff': 0.354,\n",
              " 'Barry': 0.13,\n",
              " 'Swansea': 0.24,\n",
              " 'Briton Ferry': 0.157,\n",
              " 'Rhondda Cynon Taf': 0.318,\n",
              " 'Bridgend County Borough': 0.147,\n",
              " 'Merthyr Tydfil': 0.092,\n",
              " 'Carmarthenshire': 0.328,\n",
              " 'Ceredigion': 0.162,\n",
              " 'Pembrokeshire': 0.191,\n",
              " 'Knighton': 0.395,\n",
              " 'Perth and Kinross': 0.043,\n",
              " 'Leven': 0.27,\n",
              " 'Scottish Borders': 0.16,\n",
              " 'Bonnyrigg': 0.122,\n",
              " 'City of Edinburgh': 0.743,\n",
              " 'East Lothian': 0.107,\n",
              " 'Whitburn': 0.145,\n",
              " 'Falkirk': 0.127,\n",
              " 'Clackmannanshire': 0.046,\n",
              " 'Bannockburn': 0.14,\n",
              " 'Dalmellington': 0.127,\n",
              " 'Glasgow': 0.498,\n",
              " 'East Dunbartonshire': 0.064,\n",
              " 'Giffnock': 0.047,\n",
              " 'Renfrew': 0.153,\n",
              " 'Inverclyde': 0.081,\n",
              " 'Dumbarton': 0.099,\n",
              " 'Argyll and Bute': 0.147,\n",
              " 'Coatbridge': 0.269,\n",
              " 'Bothwell': 0.304,\n",
              " 'Kilbirnie': 0.116,\n",
              " 'South Ayrshire': 0.148,\n",
              " 'Dumfries and Galloway': 0.244}"
            ]
          },
          "metadata": {},
          "execution_count": 37
        }
      ]
    },
    {
      "cell_type": "code",
      "source": [
        "top_10_city_class_A = calculate_top_categories(df_q2,'city',10)\n",
        "percent_number_of_cities_top_class_A = {}\n",
        "for x in top_10_city_class_A:\n",
        "  percent_number_of_cities_top_class_A[x] = percent_number_of_cities_class_A[x]"
      ],
      "metadata": {
        "id": "Awp9RVKYHrDv"
      },
      "execution_count": 38,
      "outputs": []
    },
    {
      "cell_type": "code",
      "source": [
        "plotPercentageCol(percent_number_of_cities_top_class_A ,dim1=20,r=3,degree=90)"
      ],
      "metadata": {
        "colab": {
          "base_uri": "https://localhost:8080/",
          "height": 409
        },
        "id": "690auknKH8Yt",
        "outputId": "3eac6ed2-fe8d-40bb-eb2b-c5cbc5c0b3df"
      },
      "execution_count": 40,
      "outputs": [
        {
          "output_type": "display_data",
          "data": {
            "text/plain": [
              "<Figure size 1440x360 with 1 Axes>"
            ],
            "image/png": "[encoded data removed]"
          },
          "metadata": {
            "needs_background": "light"
          }
        }
      ]
    },
    {
      "cell_type": "markdown",
      "source": [
        "### AS shown also London was the city with the most number of accidents when the first road was class A\n"
      ],
      "metadata": {
        "id": "n6M6FqVkKrV0"
      }
    },
    {
      "cell_type": "code",
      "source": [],
      "metadata": {
        "id": "vbMD9tK1IC9X"
      },
      "execution_count": null,
      "outputs": []
    },
    {
      "cell_type": "markdown",
      "source": [
        "###city encoded with label encoding methed the feature not ordinal but it has huge number of unique values so one hot encoding will consume huge memory space. The percentage of unique values almost have no differance so we can not use freqent version of one hot encoding\n"
      ],
      "metadata": {
        "id": "aTlKhhyzJQkN"
      }
    },
    {
      "cell_type": "code",
      "source": [
        "def number_encode_features(df,feature,mapping):\n",
        "    result = df.copy() # take a copy of the dataframe\n",
        "    map = []\n",
        "    for x in df[feature]:\n",
        "      map.append(mapping[x])\n",
        "    result[feature+'_encoding'] = np.array(map)\n",
        "    return result"
      ],
      "metadata": {
        "id": "OKVGvb0viR0A"
      },
      "execution_count": 42,
      "outputs": []
    },
    {
      "cell_type": "code",
      "source": [
        "def generateLabelsMapping(df,feature):\n",
        "  x = df[feature].unique()\n",
        "  map = {}\n",
        "  n = 0\n",
        "  for i in x:\n",
        "    map[i] = n\n",
        "    n+=1\n",
        "  return map\n"
      ],
      "metadata": {
        "id": "cwsMTGGui3Xy"
      },
      "execution_count": 43,
      "outputs": []
    },
    {
      "cell_type": "code",
      "source": [
        "def add_mapping_to_csv(feature,mapping):\n",
        "  for k in mapping.keys():\n",
        "    add_to_csv_values(feature+'_encoding',mapping[k],k)\n"
      ],
      "metadata": {
        "id": "bo6nMxMVI53J"
      },
      "execution_count": 44,
      "outputs": []
    },
    {
      "cell_type": "code",
      "source": [
        "df = number_encode_features(df,'city',generateLabelsMapping(df,'city'))"
      ],
      "metadata": {
        "id": "z8IpVKvZo5lz"
      },
      "execution_count": 45,
      "outputs": []
    },
    {
      "cell_type": "code",
      "source": [
        "add_mapping_to_csv('city',generateLabelsMapping(df,'city'))\n",
        "add_to_col_drop('city')"
      ],
      "metadata": {
        "id": "0XkSsBwg0cbz"
      },
      "execution_count": 46,
      "outputs": []
    },
    {
      "cell_type": "code",
      "source": [
        "df = df.drop(cols_drop_csv,axis=1)\n",
        "np.savetxt(lookup_path, values_csv, delimiter=',', fmt=['\"%s\"' , '\"%s\"', '\"%s\"'], header='column,value,meaning', comments='')"
      ],
      "metadata": {
        "id": "ZWKsNBuCJJKU"
      },
      "execution_count": 49,
      "outputs": []
    },
    {
      "cell_type": "code",
      "source": [
        "df.to_csv(dataset_csv_res,index=True)"
      ],
      "metadata": {
        "id": "xg7WzgA0JxfV"
      },
      "execution_count": null,
      "outputs": []
    }
  ]
}